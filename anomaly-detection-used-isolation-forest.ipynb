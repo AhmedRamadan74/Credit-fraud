{
 "cells": [
  {
   "cell_type": "code",
   "execution_count": 1,
   "id": "906dc020",
   "metadata": {
    "_cell_guid": "b1076dfc-b9ad-4769-8c92-a6c4dae69d19",
    "_uuid": "8f2839f25d086af736a60e9eeb907d3b93b6e0e5",
    "execution": {
     "iopub.execute_input": "2024-02-09T02:07:38.005684Z",
     "iopub.status.busy": "2024-02-09T02:07:38.004374Z",
     "iopub.status.idle": "2024-02-09T02:07:39.124934Z",
     "shell.execute_reply": "2024-02-09T02:07:39.123544Z"
    },
    "papermill": {
     "duration": 1.133209,
     "end_time": "2024-02-09T02:07:39.127818",
     "exception": false,
     "start_time": "2024-02-09T02:07:37.994609",
     "status": "completed"
    },
    "tags": []
   },
   "outputs": [
    {
     "name": "stdout",
     "output_type": "stream",
     "text": [
      "/kaggle/input/creditcardfraud/creditcard.csv\n"
     ]
    }
   ],
   "source": [
    "# This Python 3 environment comes with many helpful analytics libraries installed\n",
    "# It is defined by the kaggle/python Docker image: https://github.com/kaggle/docker-python\n",
    "# For example, here's several helpful packages to load\n",
    "\n",
    "import numpy as np # linear algebra\n",
    "import pandas as pd # data processing, CSV file I/O (e.g. pd.read_csv)\n",
    "\n",
    "# Input data files are available in the read-only \"../input/\" directory\n",
    "# For example, running this (by clicking run or pressing Shift+Enter) will list all files under the input directory\n",
    "\n",
    "import os\n",
    "for dirname, _, filenames in os.walk('/kaggle/input'):\n",
    "    for filename in filenames:\n",
    "        print(os.path.join(dirname, filename))\n",
    "\n",
    "# You can write up to 20GB to the current directory (/kaggle/working/) that gets preserved as output when you create a version using \"Save & Run All\" \n",
    "# You can also write temporary files to /kaggle/temp/, but they won't be saved outside of the current session"
   ]
  },
  {
   "cell_type": "code",
   "execution_count": 2,
   "id": "d3895ff1",
   "metadata": {
    "execution": {
     "iopub.execute_input": "2024-02-09T02:07:39.146664Z",
     "iopub.status.busy": "2024-02-09T02:07:39.145673Z",
     "iopub.status.idle": "2024-02-09T02:07:41.758007Z",
     "shell.execute_reply": "2024-02-09T02:07:41.756824Z"
    },
    "papermill": {
     "duration": 2.624969,
     "end_time": "2024-02-09T02:07:41.760908",
     "exception": false,
     "start_time": "2024-02-09T02:07:39.135939",
     "status": "completed"
    },
    "tags": []
   },
   "outputs": [],
   "source": [
    "import seaborn as sns\n",
    "import matplotlib.pyplot  as plt\n",
    "import sklearn\n",
    "import plotly.express as px\n",
    "import joblib"
   ]
  },
  {
   "cell_type": "code",
   "execution_count": 3,
   "id": "b137fca0",
   "metadata": {
    "execution": {
     "iopub.execute_input": "2024-02-09T02:07:41.777629Z",
     "iopub.status.busy": "2024-02-09T02:07:41.777090Z",
     "iopub.status.idle": "2024-02-09T02:07:46.662107Z",
     "shell.execute_reply": "2024-02-09T02:07:46.661017Z"
    },
    "papermill": {
     "duration": 4.896399,
     "end_time": "2024-02-09T02:07:46.664806",
     "exception": false,
     "start_time": "2024-02-09T02:07:41.768407",
     "status": "completed"
    },
    "tags": []
   },
   "outputs": [
    {
     "data": {
      "text/html": [
       "<div>\n",
       "<style scoped>\n",
       "    .dataframe tbody tr th:only-of-type {\n",
       "        vertical-align: middle;\n",
       "    }\n",
       "\n",
       "    .dataframe tbody tr th {\n",
       "        vertical-align: top;\n",
       "    }\n",
       "\n",
       "    .dataframe thead th {\n",
       "        text-align: right;\n",
       "    }\n",
       "</style>\n",
       "<table border=\"1\" class=\"dataframe\">\n",
       "  <thead>\n",
       "    <tr style=\"text-align: right;\">\n",
       "      <th></th>\n",
       "      <th>Time</th>\n",
       "      <th>V1</th>\n",
       "      <th>V2</th>\n",
       "      <th>V3</th>\n",
       "      <th>V4</th>\n",
       "      <th>V5</th>\n",
       "      <th>V6</th>\n",
       "      <th>V7</th>\n",
       "      <th>V8</th>\n",
       "      <th>V9</th>\n",
       "      <th>...</th>\n",
       "      <th>V21</th>\n",
       "      <th>V22</th>\n",
       "      <th>V23</th>\n",
       "      <th>V24</th>\n",
       "      <th>V25</th>\n",
       "      <th>V26</th>\n",
       "      <th>V27</th>\n",
       "      <th>V28</th>\n",
       "      <th>Amount</th>\n",
       "      <th>Class</th>\n",
       "    </tr>\n",
       "  </thead>\n",
       "  <tbody>\n",
       "    <tr>\n",
       "      <th>0</th>\n",
       "      <td>0.0</td>\n",
       "      <td>-1.359807</td>\n",
       "      <td>-0.072781</td>\n",
       "      <td>2.536347</td>\n",
       "      <td>1.378155</td>\n",
       "      <td>-0.338321</td>\n",
       "      <td>0.462388</td>\n",
       "      <td>0.239599</td>\n",
       "      <td>0.098698</td>\n",
       "      <td>0.363787</td>\n",
       "      <td>...</td>\n",
       "      <td>-0.018307</td>\n",
       "      <td>0.277838</td>\n",
       "      <td>-0.110474</td>\n",
       "      <td>0.066928</td>\n",
       "      <td>0.128539</td>\n",
       "      <td>-0.189115</td>\n",
       "      <td>0.133558</td>\n",
       "      <td>-0.021053</td>\n",
       "      <td>149.62</td>\n",
       "      <td>0</td>\n",
       "    </tr>\n",
       "    <tr>\n",
       "      <th>1</th>\n",
       "      <td>0.0</td>\n",
       "      <td>1.191857</td>\n",
       "      <td>0.266151</td>\n",
       "      <td>0.166480</td>\n",
       "      <td>0.448154</td>\n",
       "      <td>0.060018</td>\n",
       "      <td>-0.082361</td>\n",
       "      <td>-0.078803</td>\n",
       "      <td>0.085102</td>\n",
       "      <td>-0.255425</td>\n",
       "      <td>...</td>\n",
       "      <td>-0.225775</td>\n",
       "      <td>-0.638672</td>\n",
       "      <td>0.101288</td>\n",
       "      <td>-0.339846</td>\n",
       "      <td>0.167170</td>\n",
       "      <td>0.125895</td>\n",
       "      <td>-0.008983</td>\n",
       "      <td>0.014724</td>\n",
       "      <td>2.69</td>\n",
       "      <td>0</td>\n",
       "    </tr>\n",
       "    <tr>\n",
       "      <th>2</th>\n",
       "      <td>1.0</td>\n",
       "      <td>-1.358354</td>\n",
       "      <td>-1.340163</td>\n",
       "      <td>1.773209</td>\n",
       "      <td>0.379780</td>\n",
       "      <td>-0.503198</td>\n",
       "      <td>1.800499</td>\n",
       "      <td>0.791461</td>\n",
       "      <td>0.247676</td>\n",
       "      <td>-1.514654</td>\n",
       "      <td>...</td>\n",
       "      <td>0.247998</td>\n",
       "      <td>0.771679</td>\n",
       "      <td>0.909412</td>\n",
       "      <td>-0.689281</td>\n",
       "      <td>-0.327642</td>\n",
       "      <td>-0.139097</td>\n",
       "      <td>-0.055353</td>\n",
       "      <td>-0.059752</td>\n",
       "      <td>378.66</td>\n",
       "      <td>0</td>\n",
       "    </tr>\n",
       "    <tr>\n",
       "      <th>3</th>\n",
       "      <td>1.0</td>\n",
       "      <td>-0.966272</td>\n",
       "      <td>-0.185226</td>\n",
       "      <td>1.792993</td>\n",
       "      <td>-0.863291</td>\n",
       "      <td>-0.010309</td>\n",
       "      <td>1.247203</td>\n",
       "      <td>0.237609</td>\n",
       "      <td>0.377436</td>\n",
       "      <td>-1.387024</td>\n",
       "      <td>...</td>\n",
       "      <td>-0.108300</td>\n",
       "      <td>0.005274</td>\n",
       "      <td>-0.190321</td>\n",
       "      <td>-1.175575</td>\n",
       "      <td>0.647376</td>\n",
       "      <td>-0.221929</td>\n",
       "      <td>0.062723</td>\n",
       "      <td>0.061458</td>\n",
       "      <td>123.50</td>\n",
       "      <td>0</td>\n",
       "    </tr>\n",
       "    <tr>\n",
       "      <th>4</th>\n",
       "      <td>2.0</td>\n",
       "      <td>-1.158233</td>\n",
       "      <td>0.877737</td>\n",
       "      <td>1.548718</td>\n",
       "      <td>0.403034</td>\n",
       "      <td>-0.407193</td>\n",
       "      <td>0.095921</td>\n",
       "      <td>0.592941</td>\n",
       "      <td>-0.270533</td>\n",
       "      <td>0.817739</td>\n",
       "      <td>...</td>\n",
       "      <td>-0.009431</td>\n",
       "      <td>0.798278</td>\n",
       "      <td>-0.137458</td>\n",
       "      <td>0.141267</td>\n",
       "      <td>-0.206010</td>\n",
       "      <td>0.502292</td>\n",
       "      <td>0.219422</td>\n",
       "      <td>0.215153</td>\n",
       "      <td>69.99</td>\n",
       "      <td>0</td>\n",
       "    </tr>\n",
       "    <tr>\n",
       "      <th>...</th>\n",
       "      <td>...</td>\n",
       "      <td>...</td>\n",
       "      <td>...</td>\n",
       "      <td>...</td>\n",
       "      <td>...</td>\n",
       "      <td>...</td>\n",
       "      <td>...</td>\n",
       "      <td>...</td>\n",
       "      <td>...</td>\n",
       "      <td>...</td>\n",
       "      <td>...</td>\n",
       "      <td>...</td>\n",
       "      <td>...</td>\n",
       "      <td>...</td>\n",
       "      <td>...</td>\n",
       "      <td>...</td>\n",
       "      <td>...</td>\n",
       "      <td>...</td>\n",
       "      <td>...</td>\n",
       "      <td>...</td>\n",
       "      <td>...</td>\n",
       "    </tr>\n",
       "    <tr>\n",
       "      <th>284802</th>\n",
       "      <td>172786.0</td>\n",
       "      <td>-11.881118</td>\n",
       "      <td>10.071785</td>\n",
       "      <td>-9.834783</td>\n",
       "      <td>-2.066656</td>\n",
       "      <td>-5.364473</td>\n",
       "      <td>-2.606837</td>\n",
       "      <td>-4.918215</td>\n",
       "      <td>7.305334</td>\n",
       "      <td>1.914428</td>\n",
       "      <td>...</td>\n",
       "      <td>0.213454</td>\n",
       "      <td>0.111864</td>\n",
       "      <td>1.014480</td>\n",
       "      <td>-0.509348</td>\n",
       "      <td>1.436807</td>\n",
       "      <td>0.250034</td>\n",
       "      <td>0.943651</td>\n",
       "      <td>0.823731</td>\n",
       "      <td>0.77</td>\n",
       "      <td>0</td>\n",
       "    </tr>\n",
       "    <tr>\n",
       "      <th>284803</th>\n",
       "      <td>172787.0</td>\n",
       "      <td>-0.732789</td>\n",
       "      <td>-0.055080</td>\n",
       "      <td>2.035030</td>\n",
       "      <td>-0.738589</td>\n",
       "      <td>0.868229</td>\n",
       "      <td>1.058415</td>\n",
       "      <td>0.024330</td>\n",
       "      <td>0.294869</td>\n",
       "      <td>0.584800</td>\n",
       "      <td>...</td>\n",
       "      <td>0.214205</td>\n",
       "      <td>0.924384</td>\n",
       "      <td>0.012463</td>\n",
       "      <td>-1.016226</td>\n",
       "      <td>-0.606624</td>\n",
       "      <td>-0.395255</td>\n",
       "      <td>0.068472</td>\n",
       "      <td>-0.053527</td>\n",
       "      <td>24.79</td>\n",
       "      <td>0</td>\n",
       "    </tr>\n",
       "    <tr>\n",
       "      <th>284804</th>\n",
       "      <td>172788.0</td>\n",
       "      <td>1.919565</td>\n",
       "      <td>-0.301254</td>\n",
       "      <td>-3.249640</td>\n",
       "      <td>-0.557828</td>\n",
       "      <td>2.630515</td>\n",
       "      <td>3.031260</td>\n",
       "      <td>-0.296827</td>\n",
       "      <td>0.708417</td>\n",
       "      <td>0.432454</td>\n",
       "      <td>...</td>\n",
       "      <td>0.232045</td>\n",
       "      <td>0.578229</td>\n",
       "      <td>-0.037501</td>\n",
       "      <td>0.640134</td>\n",
       "      <td>0.265745</td>\n",
       "      <td>-0.087371</td>\n",
       "      <td>0.004455</td>\n",
       "      <td>-0.026561</td>\n",
       "      <td>67.88</td>\n",
       "      <td>0</td>\n",
       "    </tr>\n",
       "    <tr>\n",
       "      <th>284805</th>\n",
       "      <td>172788.0</td>\n",
       "      <td>-0.240440</td>\n",
       "      <td>0.530483</td>\n",
       "      <td>0.702510</td>\n",
       "      <td>0.689799</td>\n",
       "      <td>-0.377961</td>\n",
       "      <td>0.623708</td>\n",
       "      <td>-0.686180</td>\n",
       "      <td>0.679145</td>\n",
       "      <td>0.392087</td>\n",
       "      <td>...</td>\n",
       "      <td>0.265245</td>\n",
       "      <td>0.800049</td>\n",
       "      <td>-0.163298</td>\n",
       "      <td>0.123205</td>\n",
       "      <td>-0.569159</td>\n",
       "      <td>0.546668</td>\n",
       "      <td>0.108821</td>\n",
       "      <td>0.104533</td>\n",
       "      <td>10.00</td>\n",
       "      <td>0</td>\n",
       "    </tr>\n",
       "    <tr>\n",
       "      <th>284806</th>\n",
       "      <td>172792.0</td>\n",
       "      <td>-0.533413</td>\n",
       "      <td>-0.189733</td>\n",
       "      <td>0.703337</td>\n",
       "      <td>-0.506271</td>\n",
       "      <td>-0.012546</td>\n",
       "      <td>-0.649617</td>\n",
       "      <td>1.577006</td>\n",
       "      <td>-0.414650</td>\n",
       "      <td>0.486180</td>\n",
       "      <td>...</td>\n",
       "      <td>0.261057</td>\n",
       "      <td>0.643078</td>\n",
       "      <td>0.376777</td>\n",
       "      <td>0.008797</td>\n",
       "      <td>-0.473649</td>\n",
       "      <td>-0.818267</td>\n",
       "      <td>-0.002415</td>\n",
       "      <td>0.013649</td>\n",
       "      <td>217.00</td>\n",
       "      <td>0</td>\n",
       "    </tr>\n",
       "  </tbody>\n",
       "</table>\n",
       "<p>284807 rows × 31 columns</p>\n",
       "</div>"
      ],
      "text/plain": [
       "            Time         V1         V2        V3        V4        V5  \\\n",
       "0            0.0  -1.359807  -0.072781  2.536347  1.378155 -0.338321   \n",
       "1            0.0   1.191857   0.266151  0.166480  0.448154  0.060018   \n",
       "2            1.0  -1.358354  -1.340163  1.773209  0.379780 -0.503198   \n",
       "3            1.0  -0.966272  -0.185226  1.792993 -0.863291 -0.010309   \n",
       "4            2.0  -1.158233   0.877737  1.548718  0.403034 -0.407193   \n",
       "...          ...        ...        ...       ...       ...       ...   \n",
       "284802  172786.0 -11.881118  10.071785 -9.834783 -2.066656 -5.364473   \n",
       "284803  172787.0  -0.732789  -0.055080  2.035030 -0.738589  0.868229   \n",
       "284804  172788.0   1.919565  -0.301254 -3.249640 -0.557828  2.630515   \n",
       "284805  172788.0  -0.240440   0.530483  0.702510  0.689799 -0.377961   \n",
       "284806  172792.0  -0.533413  -0.189733  0.703337 -0.506271 -0.012546   \n",
       "\n",
       "              V6        V7        V8        V9  ...       V21       V22  \\\n",
       "0       0.462388  0.239599  0.098698  0.363787  ... -0.018307  0.277838   \n",
       "1      -0.082361 -0.078803  0.085102 -0.255425  ... -0.225775 -0.638672   \n",
       "2       1.800499  0.791461  0.247676 -1.514654  ...  0.247998  0.771679   \n",
       "3       1.247203  0.237609  0.377436 -1.387024  ... -0.108300  0.005274   \n",
       "4       0.095921  0.592941 -0.270533  0.817739  ... -0.009431  0.798278   \n",
       "...          ...       ...       ...       ...  ...       ...       ...   \n",
       "284802 -2.606837 -4.918215  7.305334  1.914428  ...  0.213454  0.111864   \n",
       "284803  1.058415  0.024330  0.294869  0.584800  ...  0.214205  0.924384   \n",
       "284804  3.031260 -0.296827  0.708417  0.432454  ...  0.232045  0.578229   \n",
       "284805  0.623708 -0.686180  0.679145  0.392087  ...  0.265245  0.800049   \n",
       "284806 -0.649617  1.577006 -0.414650  0.486180  ...  0.261057  0.643078   \n",
       "\n",
       "             V23       V24       V25       V26       V27       V28  Amount  \\\n",
       "0      -0.110474  0.066928  0.128539 -0.189115  0.133558 -0.021053  149.62   \n",
       "1       0.101288 -0.339846  0.167170  0.125895 -0.008983  0.014724    2.69   \n",
       "2       0.909412 -0.689281 -0.327642 -0.139097 -0.055353 -0.059752  378.66   \n",
       "3      -0.190321 -1.175575  0.647376 -0.221929  0.062723  0.061458  123.50   \n",
       "4      -0.137458  0.141267 -0.206010  0.502292  0.219422  0.215153   69.99   \n",
       "...          ...       ...       ...       ...       ...       ...     ...   \n",
       "284802  1.014480 -0.509348  1.436807  0.250034  0.943651  0.823731    0.77   \n",
       "284803  0.012463 -1.016226 -0.606624 -0.395255  0.068472 -0.053527   24.79   \n",
       "284804 -0.037501  0.640134  0.265745 -0.087371  0.004455 -0.026561   67.88   \n",
       "284805 -0.163298  0.123205 -0.569159  0.546668  0.108821  0.104533   10.00   \n",
       "284806  0.376777  0.008797 -0.473649 -0.818267 -0.002415  0.013649  217.00   \n",
       "\n",
       "        Class  \n",
       "0           0  \n",
       "1           0  \n",
       "2           0  \n",
       "3           0  \n",
       "4           0  \n",
       "...       ...  \n",
       "284802      0  \n",
       "284803      0  \n",
       "284804      0  \n",
       "284805      0  \n",
       "284806      0  \n",
       "\n",
       "[284807 rows x 31 columns]"
      ]
     },
     "execution_count": 3,
     "metadata": {},
     "output_type": "execute_result"
    }
   ],
   "source": [
    "df=pd.read_csv(\"/kaggle/input/creditcardfraud/creditcard.csv\")\n",
    "df"
   ]
  },
  {
   "cell_type": "markdown",
   "id": "27e5dcbc",
   "metadata": {
    "papermill": {
     "duration": 0.008796,
     "end_time": "2024-02-09T02:07:46.682202",
     "exception": false,
     "start_time": "2024-02-09T02:07:46.673406",
     "status": "completed"
    },
    "tags": []
   },
   "source": [
    "# **Preprocessing**"
   ]
  },
  {
   "cell_type": "code",
   "execution_count": 4,
   "id": "64d9c26b",
   "metadata": {
    "execution": {
     "iopub.execute_input": "2024-02-09T02:07:46.699764Z",
     "iopub.status.busy": "2024-02-09T02:07:46.699306Z",
     "iopub.status.idle": "2024-02-09T02:07:46.718183Z",
     "shell.execute_reply": "2024-02-09T02:07:46.716911Z"
    },
    "papermill": {
     "duration": 0.031185,
     "end_time": "2024-02-09T02:07:46.721233",
     "exception": false,
     "start_time": "2024-02-09T02:07:46.690048",
     "status": "completed"
    },
    "tags": []
   },
   "outputs": [],
   "source": [
    "#convert any class 0 to 1 and any class 1 to -1\n",
    "df.Class=df.Class.map({0:1,1:-1})"
   ]
  },
  {
   "cell_type": "code",
   "execution_count": 5,
   "id": "7e62fe89",
   "metadata": {
    "execution": {
     "iopub.execute_input": "2024-02-09T02:07:46.739858Z",
     "iopub.status.busy": "2024-02-09T02:07:46.738505Z",
     "iopub.status.idle": "2024-02-09T02:07:46.851854Z",
     "shell.execute_reply": "2024-02-09T02:07:46.850709Z"
    },
    "papermill": {
     "duration": 0.125667,
     "end_time": "2024-02-09T02:07:46.854952",
     "exception": false,
     "start_time": "2024-02-09T02:07:46.729285",
     "status": "completed"
    },
    "tags": []
   },
   "outputs": [],
   "source": [
    "#divide data into normal and fraud\n",
    "df_normal=df[df.Class==1]\n",
    "df_fraud=df[df.Class==-1]\n",
    "\n",
    "x_normal=df_normal.drop(\"Class\",axis=1)\n",
    "x_fraud=df_fraud.drop(\"Class\",axis=1)\n",
    "\n",
    "y_normal=df_normal.Class\n",
    "y_fraud=df_fraud.Class"
   ]
  },
  {
   "cell_type": "code",
   "execution_count": 6,
   "id": "7cabe166",
   "metadata": {
    "execution": {
     "iopub.execute_input": "2024-02-09T02:07:46.873519Z",
     "iopub.status.busy": "2024-02-09T02:07:46.872146Z",
     "iopub.status.idle": "2024-02-09T02:07:46.880321Z",
     "shell.execute_reply": "2024-02-09T02:07:46.879188Z"
    },
    "papermill": {
     "duration": 0.020104,
     "end_time": "2024-02-09T02:07:46.882954",
     "exception": false,
     "start_time": "2024-02-09T02:07:46.862850",
     "status": "completed"
    },
    "tags": []
   },
   "outputs": [
    {
     "data": {
      "text/plain": [
       "((284315, 30), (492, 30))"
      ]
     },
     "execution_count": 6,
     "metadata": {},
     "output_type": "execute_result"
    }
   ],
   "source": [
    "(x_normal.shape,x_fraud.shape)"
   ]
  },
  {
   "cell_type": "code",
   "execution_count": 7,
   "id": "c6e6c095",
   "metadata": {
    "execution": {
     "iopub.execute_input": "2024-02-09T02:07:46.902351Z",
     "iopub.status.busy": "2024-02-09T02:07:46.901586Z",
     "iopub.status.idle": "2024-02-09T02:07:47.360223Z",
     "shell.execute_reply": "2024-02-09T02:07:47.358832Z"
    },
    "papermill": {
     "duration": 0.471079,
     "end_time": "2024-02-09T02:07:47.363201",
     "exception": false,
     "start_time": "2024-02-09T02:07:46.892122",
     "status": "completed"
    },
    "tags": []
   },
   "outputs": [],
   "source": [
    "from sklearn.preprocessing import StandardScaler \n",
    "\n",
    "from sklearn.model_selection import cross_validate ,cross_val_score\n",
    "\n",
    "from sklearn.ensemble import IsolationForest"
   ]
  },
  {
   "cell_type": "code",
   "execution_count": 8,
   "id": "d5e52ef5",
   "metadata": {
    "execution": {
     "iopub.execute_input": "2024-02-09T02:07:47.381359Z",
     "iopub.status.busy": "2024-02-09T02:07:47.380828Z",
     "iopub.status.idle": "2024-02-09T02:07:47.577993Z",
     "shell.execute_reply": "2024-02-09T02:07:47.576828Z"
    },
    "papermill": {
     "duration": 0.209686,
     "end_time": "2024-02-09T02:07:47.581045",
     "exception": false,
     "start_time": "2024-02-09T02:07:47.371359",
     "status": "completed"
    },
    "tags": []
   },
   "outputs": [],
   "source": [
    "scaler=StandardScaler()\n",
    "x_normal=scaler.fit_transform(x_normal)\n",
    "x_fraud=scaler.transform(x_fraud)"
   ]
  },
  {
   "cell_type": "markdown",
   "id": "588e6b68",
   "metadata": {
    "papermill": {
     "duration": 0.007658,
     "end_time": "2024-02-09T02:07:47.596714",
     "exception": false,
     "start_time": "2024-02-09T02:07:47.589056",
     "status": "completed"
    },
    "tags": []
   },
   "source": [
    "# **Model**"
   ]
  },
  {
   "cell_type": "code",
   "execution_count": 9,
   "id": "8aa0f7e7",
   "metadata": {
    "execution": {
     "iopub.execute_input": "2024-02-09T02:07:47.615630Z",
     "iopub.status.busy": "2024-02-09T02:07:47.614061Z",
     "iopub.status.idle": "2024-02-09T02:07:48.139399Z",
     "shell.execute_reply": "2024-02-09T02:07:48.138374Z"
    },
    "papermill": {
     "duration": 0.537756,
     "end_time": "2024-02-09T02:07:48.142285",
     "exception": false,
     "start_time": "2024-02-09T02:07:47.604529",
     "status": "completed"
    },
    "tags": []
   },
   "outputs": [
    {
     "data": {
      "text/html": [
       "<style>#sk-container-id-1 {color: black;background-color: white;}#sk-container-id-1 pre{padding: 0;}#sk-container-id-1 div.sk-toggleable {background-color: white;}#sk-container-id-1 label.sk-toggleable__label {cursor: pointer;display: block;width: 100%;margin-bottom: 0;padding: 0.3em;box-sizing: border-box;text-align: center;}#sk-container-id-1 label.sk-toggleable__label-arrow:before {content: \"▸\";float: left;margin-right: 0.25em;color: #696969;}#sk-container-id-1 label.sk-toggleable__label-arrow:hover:before {color: black;}#sk-container-id-1 div.sk-estimator:hover label.sk-toggleable__label-arrow:before {color: black;}#sk-container-id-1 div.sk-toggleable__content {max-height: 0;max-width: 0;overflow: hidden;text-align: left;background-color: #f0f8ff;}#sk-container-id-1 div.sk-toggleable__content pre {margin: 0.2em;color: black;border-radius: 0.25em;background-color: #f0f8ff;}#sk-container-id-1 input.sk-toggleable__control:checked~div.sk-toggleable__content {max-height: 200px;max-width: 100%;overflow: auto;}#sk-container-id-1 input.sk-toggleable__control:checked~label.sk-toggleable__label-arrow:before {content: \"▾\";}#sk-container-id-1 div.sk-estimator input.sk-toggleable__control:checked~label.sk-toggleable__label {background-color: #d4ebff;}#sk-container-id-1 div.sk-label input.sk-toggleable__control:checked~label.sk-toggleable__label {background-color: #d4ebff;}#sk-container-id-1 input.sk-hidden--visually {border: 0;clip: rect(1px 1px 1px 1px);clip: rect(1px, 1px, 1px, 1px);height: 1px;margin: -1px;overflow: hidden;padding: 0;position: absolute;width: 1px;}#sk-container-id-1 div.sk-estimator {font-family: monospace;background-color: #f0f8ff;border: 1px dotted black;border-radius: 0.25em;box-sizing: border-box;margin-bottom: 0.5em;}#sk-container-id-1 div.sk-estimator:hover {background-color: #d4ebff;}#sk-container-id-1 div.sk-parallel-item::after {content: \"\";width: 100%;border-bottom: 1px solid gray;flex-grow: 1;}#sk-container-id-1 div.sk-label:hover label.sk-toggleable__label {background-color: #d4ebff;}#sk-container-id-1 div.sk-serial::before {content: \"\";position: absolute;border-left: 1px solid gray;box-sizing: border-box;top: 0;bottom: 0;left: 50%;z-index: 0;}#sk-container-id-1 div.sk-serial {display: flex;flex-direction: column;align-items: center;background-color: white;padding-right: 0.2em;padding-left: 0.2em;position: relative;}#sk-container-id-1 div.sk-item {position: relative;z-index: 1;}#sk-container-id-1 div.sk-parallel {display: flex;align-items: stretch;justify-content: center;background-color: white;position: relative;}#sk-container-id-1 div.sk-item::before, #sk-container-id-1 div.sk-parallel-item::before {content: \"\";position: absolute;border-left: 1px solid gray;box-sizing: border-box;top: 0;bottom: 0;left: 50%;z-index: -1;}#sk-container-id-1 div.sk-parallel-item {display: flex;flex-direction: column;z-index: 1;position: relative;background-color: white;}#sk-container-id-1 div.sk-parallel-item:first-child::after {align-self: flex-end;width: 50%;}#sk-container-id-1 div.sk-parallel-item:last-child::after {align-self: flex-start;width: 50%;}#sk-container-id-1 div.sk-parallel-item:only-child::after {width: 0;}#sk-container-id-1 div.sk-dashed-wrapped {border: 1px dashed gray;margin: 0 0.4em 0.5em 0.4em;box-sizing: border-box;padding-bottom: 0.4em;background-color: white;}#sk-container-id-1 div.sk-label label {font-family: monospace;font-weight: bold;display: inline-block;line-height: 1.2em;}#sk-container-id-1 div.sk-label-container {text-align: center;}#sk-container-id-1 div.sk-container {/* jupyter's `normalize.less` sets `[hidden] { display: none; }` but bootstrap.min.css set `[hidden] { display: none !important; }` so we also need the `!important` here to be able to override the default hidden behavior on the sphinx rendered scikit-learn.org. See: https://github.com/scikit-learn/scikit-learn/issues/21755 */display: inline-block !important;position: relative;}#sk-container-id-1 div.sk-text-repr-fallback {display: none;}</style><div id=\"sk-container-id-1\" class=\"sk-top-container\"><div class=\"sk-text-repr-fallback\"><pre>IsolationForest(random_state=0)</pre><b>In a Jupyter environment, please rerun this cell to show the HTML representation or trust the notebook. <br />On GitHub, the HTML representation is unable to render, please try loading this page with nbviewer.org.</b></div><div class=\"sk-container\" hidden><div class=\"sk-item\"><div class=\"sk-estimator sk-toggleable\"><input class=\"sk-toggleable__control sk-hidden--visually\" id=\"sk-estimator-id-1\" type=\"checkbox\" checked><label for=\"sk-estimator-id-1\" class=\"sk-toggleable__label sk-toggleable__label-arrow\">IsolationForest</label><div class=\"sk-toggleable__content\"><pre>IsolationForest(random_state=0)</pre></div></div></div></div></div>"
      ],
      "text/plain": [
       "IsolationForest(random_state=0)"
      ]
     },
     "execution_count": 9,
     "metadata": {},
     "output_type": "execute_result"
    }
   ],
   "source": [
    "model=IsolationForest(random_state=0)\n",
    "model.fit(x_normal)"
   ]
  },
  {
   "cell_type": "code",
   "execution_count": 10,
   "id": "2e1cb9e4",
   "metadata": {
    "execution": {
     "iopub.execute_input": "2024-02-09T02:07:48.161478Z",
     "iopub.status.busy": "2024-02-09T02:07:48.160551Z",
     "iopub.status.idle": "2024-02-09T02:07:59.624843Z",
     "shell.execute_reply": "2024-02-09T02:07:59.623382Z"
    },
    "papermill": {
     "duration": 11.477415,
     "end_time": "2024-02-09T02:07:59.628176",
     "exception": false,
     "start_time": "2024-02-09T02:07:48.150761",
     "status": "completed"
    },
    "tags": []
   },
   "outputs": [],
   "source": [
    "y_train_predict=model.predict(x_normal)"
   ]
  },
  {
   "cell_type": "code",
   "execution_count": 11,
   "id": "1d0b983d",
   "metadata": {
    "execution": {
     "iopub.execute_input": "2024-02-09T02:07:59.646897Z",
     "iopub.status.busy": "2024-02-09T02:07:59.646412Z",
     "iopub.status.idle": "2024-02-09T02:07:59.660232Z",
     "shell.execute_reply": "2024-02-09T02:07:59.658615Z"
    },
    "papermill": {
     "duration": 0.02653,
     "end_time": "2024-02-09T02:07:59.663019",
     "exception": false,
     "start_time": "2024-02-09T02:07:59.636489",
     "status": "completed"
    },
    "tags": []
   },
   "outputs": [
    {
     "data": {
      "text/plain": [
       "array([-1,  1])"
      ]
     },
     "execution_count": 11,
     "metadata": {},
     "output_type": "execute_result"
    }
   ],
   "source": [
    "np.unique(y_train_predict)"
   ]
  },
  {
   "cell_type": "code",
   "execution_count": 12,
   "id": "a9a16ab0",
   "metadata": {
    "execution": {
     "iopub.execute_input": "2024-02-09T02:07:59.681797Z",
     "iopub.status.busy": "2024-02-09T02:07:59.681315Z",
     "iopub.status.idle": "2024-02-09T02:07:59.689504Z",
     "shell.execute_reply": "2024-02-09T02:07:59.688342Z"
    },
    "papermill": {
     "duration": 0.021066,
     "end_time": "2024-02-09T02:07:59.692340",
     "exception": false,
     "start_time": "2024-02-09T02:07:59.671274",
     "status": "completed"
    },
    "tags": []
   },
   "outputs": [],
   "source": [
    "data_train=pd.DataFrame({\"y_train\":y_normal,\n",
    "                   \"y_train_predict\":y_train_predict})"
   ]
  },
  {
   "cell_type": "code",
   "execution_count": 13,
   "id": "b9e2b1ba",
   "metadata": {
    "execution": {
     "iopub.execute_input": "2024-02-09T02:07:59.711300Z",
     "iopub.status.busy": "2024-02-09T02:07:59.710405Z",
     "iopub.status.idle": "2024-02-09T02:07:59.727860Z",
     "shell.execute_reply": "2024-02-09T02:07:59.726680Z"
    },
    "papermill": {
     "duration": 0.029643,
     "end_time": "2024-02-09T02:07:59.730408",
     "exception": false,
     "start_time": "2024-02-09T02:07:59.700765",
     "status": "completed"
    },
    "tags": []
   },
   "outputs": [
    {
     "data": {
      "text/plain": [
       "y_train_predict\n",
       " 1    274286\n",
       "-1     10029\n",
       "Name: count, dtype: int64"
      ]
     },
     "execution_count": 13,
     "metadata": {},
     "output_type": "execute_result"
    }
   ],
   "source": [
    "data_train[\"y_train_predict\"].value_counts()"
   ]
  },
  {
   "cell_type": "code",
   "execution_count": 14,
   "id": "2fd63769",
   "metadata": {
    "execution": {
     "iopub.execute_input": "2024-02-09T02:07:59.752112Z",
     "iopub.status.busy": "2024-02-09T02:07:59.750793Z",
     "iopub.status.idle": "2024-02-09T02:07:59.816353Z",
     "shell.execute_reply": "2024-02-09T02:07:59.814963Z"
    },
    "papermill": {
     "duration": 0.078895,
     "end_time": "2024-02-09T02:07:59.819386",
     "exception": false,
     "start_time": "2024-02-09T02:07:59.740491",
     "status": "completed"
    },
    "tags": []
   },
   "outputs": [],
   "source": [
    "y_test_predict=model.predict(x_fraud)"
   ]
  },
  {
   "cell_type": "code",
   "execution_count": 15,
   "id": "d494fbba",
   "metadata": {
    "execution": {
     "iopub.execute_input": "2024-02-09T02:07:59.839083Z",
     "iopub.status.busy": "2024-02-09T02:07:59.838618Z",
     "iopub.status.idle": "2024-02-09T02:07:59.853375Z",
     "shell.execute_reply": "2024-02-09T02:07:59.852056Z"
    },
    "papermill": {
     "duration": 0.027712,
     "end_time": "2024-02-09T02:07:59.856210",
     "exception": false,
     "start_time": "2024-02-09T02:07:59.828498",
     "status": "completed"
    },
    "tags": []
   },
   "outputs": [
    {
     "data": {
      "text/plain": [
       "array([-1,  1])"
      ]
     },
     "execution_count": 15,
     "metadata": {},
     "output_type": "execute_result"
    }
   ],
   "source": [
    "np.unique(y_train_predict)"
   ]
  },
  {
   "cell_type": "code",
   "execution_count": 16,
   "id": "1d2d7a95",
   "metadata": {
    "execution": {
     "iopub.execute_input": "2024-02-09T02:07:59.875886Z",
     "iopub.status.busy": "2024-02-09T02:07:59.875377Z",
     "iopub.status.idle": "2024-02-09T02:07:59.881908Z",
     "shell.execute_reply": "2024-02-09T02:07:59.880603Z"
    },
    "papermill": {
     "duration": 0.019266,
     "end_time": "2024-02-09T02:07:59.884364",
     "exception": false,
     "start_time": "2024-02-09T02:07:59.865098",
     "status": "completed"
    },
    "tags": []
   },
   "outputs": [],
   "source": [
    "data_test=pd.DataFrame({\"y_test\":y_fraud,\n",
    "                   \"y_test_predict\":y_test_predict})"
   ]
  },
  {
   "cell_type": "code",
   "execution_count": 17,
   "id": "995fe51b",
   "metadata": {
    "execution": {
     "iopub.execute_input": "2024-02-09T02:07:59.903581Z",
     "iopub.status.busy": "2024-02-09T02:07:59.903103Z",
     "iopub.status.idle": "2024-02-09T02:07:59.912713Z",
     "shell.execute_reply": "2024-02-09T02:07:59.911474Z"
    },
    "papermill": {
     "duration": 0.022332,
     "end_time": "2024-02-09T02:07:59.915141",
     "exception": false,
     "start_time": "2024-02-09T02:07:59.892809",
     "status": "completed"
    },
    "tags": []
   },
   "outputs": [
    {
     "data": {
      "text/plain": [
       "y_test_predict\n",
       "-1    415\n",
       " 1     77\n",
       "Name: count, dtype: int64"
      ]
     },
     "execution_count": 17,
     "metadata": {},
     "output_type": "execute_result"
    }
   ],
   "source": [
    "data_test[\"y_test_predict\"].value_counts()"
   ]
  },
  {
   "cell_type": "code",
   "execution_count": 18,
   "id": "f6d3358a",
   "metadata": {
    "execution": {
     "iopub.execute_input": "2024-02-09T02:07:59.934314Z",
     "iopub.status.busy": "2024-02-09T02:07:59.933832Z",
     "iopub.status.idle": "2024-02-09T02:07:59.944216Z",
     "shell.execute_reply": "2024-02-09T02:07:59.943031Z"
    },
    "papermill": {
     "duration": 0.022967,
     "end_time": "2024-02-09T02:07:59.946792",
     "exception": false,
     "start_time": "2024-02-09T02:07:59.923825",
     "status": "completed"
    },
    "tags": []
   },
   "outputs": [
    {
     "data": {
      "text/plain": [
       "y_test\n",
       "-1    492\n",
       "Name: count, dtype: int64"
      ]
     },
     "execution_count": 18,
     "metadata": {},
     "output_type": "execute_result"
    }
   ],
   "source": [
    "data_test[\"y_test\"].value_counts()"
   ]
  },
  {
   "cell_type": "markdown",
   "id": "64899241",
   "metadata": {
    "papermill": {
     "duration": 0.008289,
     "end_time": "2024-02-09T02:07:59.964168",
     "exception": false,
     "start_time": "2024-02-09T02:07:59.955879",
     "status": "completed"
    },
    "tags": []
   },
   "source": [
    "# **Model evalation**"
   ]
  },
  {
   "cell_type": "code",
   "execution_count": 19,
   "id": "7b0f98e0",
   "metadata": {
    "execution": {
     "iopub.execute_input": "2024-02-09T02:07:59.983876Z",
     "iopub.status.busy": "2024-02-09T02:07:59.983399Z",
     "iopub.status.idle": "2024-02-09T02:07:59.989618Z",
     "shell.execute_reply": "2024-02-09T02:07:59.988324Z"
    },
    "papermill": {
     "duration": 0.02018,
     "end_time": "2024-02-09T02:07:59.993094",
     "exception": false,
     "start_time": "2024-02-09T02:07:59.972914",
     "status": "completed"
    },
    "tags": []
   },
   "outputs": [],
   "source": [
    "from sklearn.metrics import f1_score,recall_score"
   ]
  },
  {
   "cell_type": "code",
   "execution_count": 20,
   "id": "f68b669d",
   "metadata": {
    "execution": {
     "iopub.execute_input": "2024-02-09T02:08:00.013766Z",
     "iopub.status.busy": "2024-02-09T02:08:00.012382Z",
     "iopub.status.idle": "2024-02-09T02:08:00.141028Z",
     "shell.execute_reply": "2024-02-09T02:08:00.139697Z"
    },
    "papermill": {
     "duration": 0.14177,
     "end_time": "2024-02-09T02:08:00.143886",
     "exception": false,
     "start_time": "2024-02-09T02:08:00.002116",
     "status": "completed"
    },
    "tags": []
   },
   "outputs": [
    {
     "name": "stdout",
     "output_type": "stream",
     "text": [
      "F1 Score of train = 0.9820462190364858\n",
      "F1 Score of test = 0.9151047409040793\n"
     ]
    }
   ],
   "source": [
    "train_score=f1_score(y_normal,y_train_predict)\n",
    "test_score=f1_score(y_fraud,y_test_predict,pos_label=-1)\n",
    "\n",
    "print(f\"F1 Score of train = {train_score}\")\n",
    "print(f\"F1 Score of test = {test_score}\")"
   ]
  },
  {
   "cell_type": "code",
   "execution_count": 21,
   "id": "7f93c4de",
   "metadata": {
    "execution": {
     "iopub.execute_input": "2024-02-09T02:08:00.164284Z",
     "iopub.status.busy": "2024-02-09T02:08:00.163774Z",
     "iopub.status.idle": "2024-02-09T02:08:00.283532Z",
     "shell.execute_reply": "2024-02-09T02:08:00.282089Z"
    },
    "papermill": {
     "duration": 0.132853,
     "end_time": "2024-02-09T02:08:00.286315",
     "exception": false,
     "start_time": "2024-02-09T02:08:00.153462",
     "status": "completed"
    },
    "tags": []
   },
   "outputs": [
    {
     "name": "stdout",
     "output_type": "stream",
     "text": [
      "recall Score of train = 0.9647257443328703\n",
      "recall Score of test = 0.8434959349593496\n"
     ]
    }
   ],
   "source": [
    "train_recall=recall_score(y_normal,y_train_predict)\n",
    "test_recall=recall_score(y_fraud,y_test_predict,pos_label=-1)\n",
    "\n",
    "print(f\"recall Score of train = {train_recall}\")\n",
    "print(f\"recall Score of test = {test_recall}\")"
   ]
  },
  {
   "cell_type": "markdown",
   "id": "d802dd12",
   "metadata": {
    "papermill": {
     "duration": 0.009413,
     "end_time": "2024-02-09T02:08:00.304701",
     "exception": false,
     "start_time": "2024-02-09T02:08:00.295288",
     "status": "completed"
    },
    "tags": []
   },
   "source": [
    "# **Save model**"
   ]
  },
  {
   "cell_type": "code",
   "execution_count": 22,
   "id": "5c4e3390",
   "metadata": {
    "execution": {
     "iopub.execute_input": "2024-02-09T02:08:00.324516Z",
     "iopub.status.busy": "2024-02-09T02:08:00.324018Z",
     "iopub.status.idle": "2024-02-09T02:08:00.382808Z",
     "shell.execute_reply": "2024-02-09T02:08:00.381503Z"
    },
    "papermill": {
     "duration": 0.071998,
     "end_time": "2024-02-09T02:08:00.385657",
     "exception": false,
     "start_time": "2024-02-09T02:08:00.313659",
     "status": "completed"
    },
    "tags": []
   },
   "outputs": [
    {
     "data": {
      "text/plain": [
       "['model.pkl']"
      ]
     },
     "execution_count": 22,
     "metadata": {},
     "output_type": "execute_result"
    }
   ],
   "source": [
    "import joblib\n",
    "joblib.dump(model,\"model.pkl\")"
   ]
  },
  {
   "cell_type": "code",
   "execution_count": null,
   "id": "3691919f",
   "metadata": {
    "papermill": {
     "duration": 0.008599,
     "end_time": "2024-02-09T02:08:00.403497",
     "exception": false,
     "start_time": "2024-02-09T02:08:00.394898",
     "status": "completed"
    },
    "tags": []
   },
   "outputs": [],
   "source": []
  },
  {
   "cell_type": "code",
   "execution_count": null,
   "id": "105a0b82",
   "metadata": {
    "papermill": {
     "duration": 0.008941,
     "end_time": "2024-02-09T02:08:00.421393",
     "exception": false,
     "start_time": "2024-02-09T02:08:00.412452",
     "status": "completed"
    },
    "tags": []
   },
   "outputs": [],
   "source": []
  },
  {
   "cell_type": "code",
   "execution_count": null,
   "id": "d9251e2c",
   "metadata": {
    "papermill": {
     "duration": 0.008626,
     "end_time": "2024-02-09T02:08:00.438997",
     "exception": false,
     "start_time": "2024-02-09T02:08:00.430371",
     "status": "completed"
    },
    "tags": []
   },
   "outputs": [],
   "source": []
  },
  {
   "cell_type": "code",
   "execution_count": null,
   "id": "413db411",
   "metadata": {
    "papermill": {
     "duration": 0.008423,
     "end_time": "2024-02-09T02:08:00.456528",
     "exception": false,
     "start_time": "2024-02-09T02:08:00.448105",
     "status": "completed"
    },
    "tags": []
   },
   "outputs": [],
   "source": []
  },
  {
   "cell_type": "code",
   "execution_count": null,
   "id": "798b6d6f",
   "metadata": {
    "papermill": {
     "duration": 0.008638,
     "end_time": "2024-02-09T02:08:00.474105",
     "exception": false,
     "start_time": "2024-02-09T02:08:00.465467",
     "status": "completed"
    },
    "tags": []
   },
   "outputs": [],
   "source": []
  }
 ],
 "metadata": {
  "kaggle": {
   "accelerator": "none",
   "dataSources": [
    {
     "datasetId": 310,
     "sourceId": 23498,
     "sourceType": "datasetVersion"
    }
   ],
   "dockerImageVersionId": 30646,
   "isGpuEnabled": false,
   "isInternetEnabled": true,
   "language": "python",
   "sourceType": "notebook"
  },
  "kernelspec": {
   "display_name": "Python 3",
   "language": "python",
   "name": "python3"
  },
  "language_info": {
   "codemirror_mode": {
    "name": "ipython",
    "version": 3
   },
   "file_extension": ".py",
   "mimetype": "text/x-python",
   "name": "python",
   "nbconvert_exporter": "python",
   "pygments_lexer": "ipython3",
   "version": "3.10.13"
  },
  "papermill": {
   "default_parameters": {},
   "duration": 26.84206,
   "end_time": "2024-02-09T02:08:01.507318",
   "environment_variables": {},
   "exception": null,
   "input_path": "__notebook__.ipynb",
   "output_path": "__notebook__.ipynb",
   "parameters": {},
   "start_time": "2024-02-09T02:07:34.665258",
   "version": "2.5.0"
  }
 },
 "nbformat": 4,
 "nbformat_minor": 5
}
